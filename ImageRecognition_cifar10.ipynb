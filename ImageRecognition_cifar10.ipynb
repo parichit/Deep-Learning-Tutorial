{
 "cells": [
  {
   "cell_type": "markdown",
   "id": "5357a26e",
   "metadata": {},
   "source": [
    "__This is an illustrative and step-by-step walkthrough of how to build a CNN for image recogntion for Cifar 10 dataset__\n",
    "\n",
    "__The order of steps is as follows:__\n",
    "\n",
    "1. Load, epxlore and standardize the data\n",
    "2. Build the model\n",
    "3. Train the model on the training dataset\n",
    "4. Evaluate the model on the test data\n",
    "\n",
    "* Use data augmentation to improve the final accuracy of the model"
   ]
  },
  {
   "cell_type": "code",
   "execution_count": 3,
   "id": "45005d17",
   "metadata": {},
   "outputs": [
    {
     "name": "stderr",
     "output_type": "stream",
     "text": [
      "2025-05-26 19:39:54.607727: I tensorflow/core/util/port.cc:153] oneDNN custom operations are on. You may see slightly different numerical results due to floating-point round-off errors from different computation orders. To turn them off, set the environment variable `TF_ENABLE_ONEDNN_OPTS=0`.\n",
      "2025-05-26 19:39:54.625591: E external/local_xla/xla/stream_executor/cuda/cuda_fft.cc:467] Unable to register cuFFT factory: Attempting to register factory for plugin cuFFT when one has already been registered\n",
      "WARNING: All log messages before absl::InitializeLog() is called are written to STDERR\n",
      "E0000 00:00:1748302794.647313 2565513 cuda_dnn.cc:8579] Unable to register cuDNN factory: Attempting to register factory for plugin cuDNN when one has already been registered\n",
      "E0000 00:00:1748302794.653891 2565513 cuda_blas.cc:1407] Unable to register cuBLAS factory: Attempting to register factory for plugin cuBLAS when one has already been registered\n",
      "W0000 00:00:1748302794.669893 2565513 computation_placer.cc:177] computation placer already registered. Please check linkage and avoid linking the same target more than once.\n",
      "W0000 00:00:1748302794.669912 2565513 computation_placer.cc:177] computation placer already registered. Please check linkage and avoid linking the same target more than once.\n",
      "W0000 00:00:1748302794.669914 2565513 computation_placer.cc:177] computation placer already registered. Please check linkage and avoid linking the same target more than once.\n",
      "W0000 00:00:1748302794.669916 2565513 computation_placer.cc:177] computation placer already registered. Please check linkage and avoid linking the same target more than once.\n",
      "2025-05-26 19:39:54.675119: I tensorflow/core/platform/cpu_feature_guard.cc:210] This TensorFlow binary is optimized to use available CPU instructions in performance-critical operations.\n",
      "To enable the following instructions: AVX2 AVX512F AVX512_VNNI FMA, in other operations, rebuild TensorFlow with the appropriate compiler flags.\n"
     ]
    },
    {
     "name": "stdout",
     "output_type": "stream",
     "text": [
      "2.19.0\n"
     ]
    }
   ],
   "source": [
    "import tensorflow as tf\n",
    "from tensorflow.keras.layers import Input, Conv2D, MaxPooling2D, Dropout, Flatten, Dense\n",
    "from tensorflow.keras.models import Model\n",
    "import numpy as np\n",
    "print(tf.__version__)\n",
    "\n",
    "import os\n",
    "os.environ[\"TF_GPU_ALLOCATOR\"] = \"cuda_malloc_async\""
   ]
  },
  {
   "cell_type": "markdown",
   "id": "8595eaef",
   "metadata": {},
   "source": [
    "##### Load and scale the dataset"
   ]
  },
  {
   "cell_type": "code",
   "execution_count": 4,
   "id": "adb44ec9",
   "metadata": {},
   "outputs": [],
   "source": [
    "cifar10 = tf.keras.datasets.cifar10\n",
    "\n",
    "# Load the Fashion MNIST dataset\n",
    "(train_images, train_labels), (test_images, test_labels) = cifar10.load_data()\n",
    "\n",
    "# Scale the input images to expedite the network training\n",
    "train_images = train_images / 255.0\n",
    "test_images = test_images / 255.0\n",
    "\n",
    "# train_data = tf.data.Dataset.from_tensor_slices((train_images, train_labels))\n",
    "# test_data = tf.data.Dataset.from_tensor_slices((test_images, test_labels))"
   ]
  },
  {
   "cell_type": "code",
   "execution_count": 3,
   "id": "f3bdaa9f",
   "metadata": {},
   "outputs": [
    {
     "name": "stdout",
     "output_type": "stream",
     "text": [
      "train_images.shape: (50000, 32, 32, 3)\n",
      "(10000, 32, 32, 3)\n"
     ]
    }
   ],
   "source": [
    "print(\"train_images.shape:\", train_images.shape)\n",
    "print(test_images.shape)"
   ]
  },
  {
   "cell_type": "markdown",
   "id": "26a31a9f",
   "metadata": {},
   "source": [
    "### Attempt 1: The model architecture\n",
    "The model architecture that we will use as follows:\n",
    "\n",
    "1. An input layer, \n",
    "2. Three convolutional layers, a max pooling layer,\n",
    "4. A flatten layer, and \n",
    "5. Two dense layers.\n",
    "6. The last layer is the output layer with 10 neurons, one for each class.\n",
    "7. Actiation functions in all layers are Relu, except in the last layer, the activation is softmax for multicalss classification.\n",
    "8. Loss will be sparse categorical cross entropy, and recorded metric will be accuracy"
   ]
  },
  {
   "cell_type": "code",
   "execution_count": null,
   "id": "618505e5",
   "metadata": {},
   "outputs": [],
   "source": [
    "# Model building \n",
    "\n",
    "# Input layer\n",
    "model_input = Input(shape=(train_images[0].shape))\n",
    "\n",
    "# Convolution block 1\n",
    "interm_out = Conv2D(32, (3, 3), activation='relu')(model_input)\n",
    "interm_out = Conv2D(64, (3, 3), activation='relu')(interm_out)\n",
    "interm_out = Conv2D(64, (3, 3), activation='relu')(interm_out)\n",
    "# interm_out = MaxPooling2D((2, 2))(interm_out)\n",
    "interim_out = Flatten()(interm_out)\n",
    "\n",
    "# Clasification block\n",
    "interim_out = Dense(512, activation='relu')(interim_out)\n",
    "final_out = Dense(10, activation='softmax')(interim_out)\n",
    "\n",
    "# Linking up the model input and output in the model object\n",
    "model = Model(model_input, final_out)"
   ]
  },
  {
   "cell_type": "code",
   "execution_count": 4,
   "id": "0b548a64",
   "metadata": {},
   "outputs": [
    {
     "name": "stdout",
     "output_type": "stream",
     "text": [
      "Epoch 1/5\n"
     ]
    },
    {
     "name": "stderr",
     "output_type": "stream",
     "text": [
      "WARNING: All log messages before absl::InitializeLog() is called are written to STDERR\n",
      "I0000 00:00:1748209997.635905 2515516 service.cc:152] XLA service 0x734d2c009900 initialized for platform CUDA (this does not guarantee that XLA will be used). Devices:\n",
      "I0000 00:00:1748209997.635960 2515516 service.cc:160]   StreamExecutor device (0): Quadro RTX 6000, Compute Capability 7.5\n",
      "I0000 00:00:1748209997.635968 2515516 service.cc:160]   StreamExecutor device (1): Quadro RTX 6000, Compute Capability 7.5\n",
      "I0000 00:00:1748209997.635973 2515516 service.cc:160]   StreamExecutor device (2): Quadro RTX 6000, Compute Capability 7.5\n",
      "I0000 00:00:1748209997.635977 2515516 service.cc:160]   StreamExecutor device (3): Quadro RTX 6000, Compute Capability 7.5\n",
      "2025-05-25 17:53:17.680374: I tensorflow/compiler/mlir/tensorflow/utils/dump_mlir_util.cc:269] disabling MLIR crash reproducer, set env var `MLIR_CRASH_REPRODUCER_DIRECTORY` to enable.\n",
      "I0000 00:00:1748209997.881841 2515516 cuda_dnn.cc:529] Loaded cuDNN version 90300\n",
      "2025-05-25 17:53:18.451400: I external/local_xla/xla/service/gpu/autotuning/conv_algorithm_picker.cc:549] Omitted potentially buggy algorithm eng14{k25=2} for conv %cudnn-conv-bias-activation.6 = (f32[128,64,26,26]{3,2,1,0}, u8[0]{0}) custom-call(f32[128,1,28,28]{3,2,1,0} %bitcast.1983, f32[64,1,3,3]{3,2,1,0} %bitcast.1790, f32[64]{0} %bitcast.2173), window={size=3x3}, dim_labels=bf01_oi01->bf01, custom_call_target=\"__cudnn$convBiasActivationForward\", metadata={op_type=\"Conv2D\" op_name=\"functional_1/conv2d_2_1/convolution\" source_file=\"/nfs/nfs9/home/nobackup/parishar/my_own_python/deep_learning_env/lib/python3.11/site-packages/tensorflow/python/framework/ops.py\" source_line=1200}, backend_config={\"operation_queue_id\":\"0\",\"wait_on_operation_queues\":[],\"cudnn_conv_backend_config\":{\"conv_result_scale\":1,\"activation_mode\":\"kNone\",\"side_input_scale\":0,\"leakyrelu_alpha\":0},\"force_earliest_schedule\":false}\n",
      "2025-05-25 17:53:18.664506: I external/local_xla/xla/service/gpu/autotuning/conv_algorithm_picker.cc:549] Omitted potentially buggy algorithm eng14{k25=2} for conv %cudnn-conv-bias-activation.7 = (f32[128,64,24,24]{3,2,1,0}, u8[0]{0}) custom-call(f32[128,64,26,26]{3,2,1,0} %bitcast.2237, f32[64,64,3,3]{3,2,1,0} %bitcast.1808, f32[64]{0} %bitcast.2297), window={size=3x3}, dim_labels=bf01_oi01->bf01, custom_call_target=\"__cudnn$convBiasActivationForward\", metadata={op_type=\"Conv2D\" op_name=\"functional_1/conv2d_3_1/convolution\" source_file=\"/nfs/nfs9/home/nobackup/parishar/my_own_python/deep_learning_env/lib/python3.11/site-packages/tensorflow/python/framework/ops.py\" source_line=1200}, backend_config={\"operation_queue_id\":\"0\",\"wait_on_operation_queues\":[],\"cudnn_conv_backend_config\":{\"conv_result_scale\":1,\"activation_mode\":\"kNone\",\"side_input_scale\":0,\"leakyrelu_alpha\":0},\"force_earliest_schedule\":false}\n"
     ]
    },
    {
     "name": "stdout",
     "output_type": "stream",
     "text": [
      "\u001b[1m 12/469\u001b[0m \u001b[37m━━━━━━━━━━━━━━━━━━━━\u001b[0m \u001b[1m6s\u001b[0m 15ms/step - accuracy: 0.4201 - loss: 1.6356"
     ]
    },
    {
     "name": "stderr",
     "output_type": "stream",
     "text": [
      "I0000 00:00:1748210002.912740 2515516 device_compiler.h:188] Compiled cluster using XLA!  This line is logged at most once for the lifetime of the process.\n"
     ]
    },
    {
     "name": "stdout",
     "output_type": "stream",
     "text": [
      "\u001b[1m468/469\u001b[0m \u001b[32m━━━━━━━━━━━━━━━━━━━\u001b[0m\u001b[37m━\u001b[0m \u001b[1m0s\u001b[0m 14ms/step - accuracy: 0.8068 - loss: 0.5423"
     ]
    },
    {
     "name": "stderr",
     "output_type": "stream",
     "text": [
      "2025-05-25 17:53:30.035922: I external/local_xla/xla/service/gpu/autotuning/conv_algorithm_picker.cc:549] Omitted potentially buggy algorithm eng14{k25=2} for conv %cudnn-conv-bias-activation.6 = (f32[96,64,26,26]{3,2,1,0}, u8[0]{0}) custom-call(f32[96,1,28,28]{3,2,1,0} %bitcast.1983, f32[64,1,3,3]{3,2,1,0} %bitcast.1790, f32[64]{0} %bitcast.2173), window={size=3x3}, dim_labels=bf01_oi01->bf01, custom_call_target=\"__cudnn$convBiasActivationForward\", metadata={op_type=\"Conv2D\" op_name=\"functional_1/conv2d_2_1/convolution\" source_file=\"/nfs/nfs9/home/nobackup/parishar/my_own_python/deep_learning_env/lib/python3.11/site-packages/tensorflow/python/framework/ops.py\" source_line=1200}, backend_config={\"operation_queue_id\":\"0\",\"wait_on_operation_queues\":[],\"cudnn_conv_backend_config\":{\"conv_result_scale\":1,\"activation_mode\":\"kNone\",\"side_input_scale\":0,\"leakyrelu_alpha\":0},\"force_earliest_schedule\":false}\n",
      "2025-05-25 17:53:30.207232: I external/local_xla/xla/service/gpu/autotuning/conv_algorithm_picker.cc:549] Omitted potentially buggy algorithm eng14{k25=2} for conv %cudnn-conv-bias-activation.7 = (f32[96,64,24,24]{3,2,1,0}, u8[0]{0}) custom-call(f32[96,64,26,26]{3,2,1,0} %bitcast.2237, f32[64,64,3,3]{3,2,1,0} %bitcast.1808, f32[64]{0} %bitcast.2297), window={size=3x3}, dim_labels=bf01_oi01->bf01, custom_call_target=\"__cudnn$convBiasActivationForward\", metadata={op_type=\"Conv2D\" op_name=\"functional_1/conv2d_3_1/convolution\" source_file=\"/nfs/nfs9/home/nobackup/parishar/my_own_python/deep_learning_env/lib/python3.11/site-packages/tensorflow/python/framework/ops.py\" source_line=1200}, backend_config={\"operation_queue_id\":\"0\",\"wait_on_operation_queues\":[],\"cudnn_conv_backend_config\":{\"conv_result_scale\":1,\"activation_mode\":\"kNone\",\"side_input_scale\":0,\"leakyrelu_alpha\":0},\"force_earliest_schedule\":false}\n"
     ]
    },
    {
     "name": "stdout",
     "output_type": "stream",
     "text": [
      "\u001b[1m469/469\u001b[0m \u001b[32m━━━━━━━━━━━━━━━━━━━━\u001b[0m\u001b[37m\u001b[0m \u001b[1m18s\u001b[0m 24ms/step - accuracy: 0.8071 - loss: 0.5417\n",
      "Epoch 2/5\n",
      "\u001b[1m469/469\u001b[0m \u001b[32m━━━━━━━━━━━━━━━━━━━━\u001b[0m\u001b[37m\u001b[0m \u001b[1m7s\u001b[0m 14ms/step - accuracy: 0.9059 - loss: 0.2528\n",
      "Epoch 3/5\n",
      "\u001b[1m469/469\u001b[0m \u001b[32m━━━━━━━━━━━━━━━━━━━━\u001b[0m\u001b[37m\u001b[0m \u001b[1m7s\u001b[0m 14ms/step - accuracy: 0.9314 - loss: 0.1868\n",
      "Epoch 4/5\n",
      "\u001b[1m469/469\u001b[0m \u001b[32m━━━━━━━━━━━━━━━━━━━━\u001b[0m\u001b[37m\u001b[0m \u001b[1m7s\u001b[0m 14ms/step - accuracy: 0.9502 - loss: 0.1380\n",
      "Epoch 5/5\n",
      "\u001b[1m469/469\u001b[0m \u001b[32m━━━━━━━━━━━━━━━━━━━━\u001b[0m\u001b[37m\u001b[0m \u001b[1m7s\u001b[0m 14ms/step - accuracy: 0.9636 - loss: 0.0994\n"
     ]
    }
   ],
   "source": [
    "# Setting up the model training parameters\n",
    "model.compile(optimizer='adam', loss='sparse_categorical_crossentropy', metrics=['accuracy'])\n",
    "\n",
    "BATHCH_SIZE = 128\n",
    "\n",
    "train_data = train_data.batch(BATHCH_SIZE).prefetch(tf.data.AUTOTUNE)\n",
    "test_data = test_data.batch(BATHCH_SIZE).prefetch(tf.data.AUTOTUNE)\n",
    "\n",
    "# Training the model\n",
    "fit_stats = model.fit(train_data, epochs=5)"
   ]
  },
  {
   "cell_type": "code",
   "execution_count": 14,
   "id": "5d70b2c4",
   "metadata": {},
   "outputs": [
    {
     "data": {
      "image/png": "[encoded data removed]",
      "text/plain": [
       "<Figure size 640x480 with 1 Axes>"
      ]
     },
     "metadata": {},
     "output_type": "display_data"
    }
   ],
   "source": [
    "# Plotting the model performance \n",
    "import matplotlib.pyplot as plt\n",
    "plt.plot(model.history.history['accuracy'], label='accuracy')\n",
    "plt.plot(model.history.history['val_accuracy'], label='val_accuracy')\n",
    "plt.xlabel('Epoch')\n",
    "plt.ylabel('Accuracy')\n",
    "plt.legend()\n",
    "plt.show()"
   ]
  },
  {
   "cell_type": "code",
   "execution_count": 6,
   "id": "0dca458b",
   "metadata": {},
   "outputs": [
    {
     "name": "stderr",
     "output_type": "stream",
     "text": [
      "2025-05-25 17:54:14.006956: I external/local_xla/xla/service/gpu/autotuning/conv_algorithm_picker.cc:549] Omitted potentially buggy algorithm eng14{k25=2} for conv %cudnn-conv-bias-activation.6 = (f32[128,64,26,26]{3,2,1,0}, u8[0]{0}) custom-call(f32[128,1,28,28]{3,2,1,0} %bitcast.500, f32[64,1,3,3]{3,2,1,0} %bitcast.507, f32[64]{0} %bitcast.509), window={size=3x3}, dim_labels=bf01_oi01->bf01, custom_call_target=\"__cudnn$convBiasActivationForward\", metadata={op_type=\"Conv2D\" op_name=\"functional_1/conv2d_2_1/convolution\" source_file=\"/nfs/nfs9/home/nobackup/parishar/my_own_python/deep_learning_env/lib/python3.11/site-packages/tensorflow/python/framework/ops.py\" source_line=1200}, backend_config={\"operation_queue_id\":\"0\",\"wait_on_operation_queues\":[],\"cudnn_conv_backend_config\":{\"conv_result_scale\":1,\"activation_mode\":\"kRelu\",\"side_input_scale\":0,\"leakyrelu_alpha\":0},\"force_earliest_schedule\":false}\n",
      "2025-05-25 17:54:14.203397: I external/local_xla/xla/service/gpu/autotuning/conv_algorithm_picker.cc:549] Omitted potentially buggy algorithm eng14{k25=2} for conv %cudnn-conv-bias-activation.7 = (f32[128,64,24,24]{3,2,1,0}, u8[0]{0}) custom-call(f32[128,64,26,26]{3,2,1,0} %bitcast.514, f32[64,64,3,3]{3,2,1,0} %bitcast.521, f32[64]{0} %bitcast.523), window={size=3x3}, dim_labels=bf01_oi01->bf01, custom_call_target=\"__cudnn$convBiasActivationForward\", metadata={op_type=\"Conv2D\" op_name=\"functional_1/conv2d_3_1/convolution\" source_file=\"/nfs/nfs9/home/nobackup/parishar/my_own_python/deep_learning_env/lib/python3.11/site-packages/tensorflow/python/framework/ops.py\" source_line=1200}, backend_config={\"operation_queue_id\":\"0\",\"wait_on_operation_queues\":[],\"cudnn_conv_backend_config\":{\"conv_result_scale\":1,\"activation_mode\":\"kRelu\",\"side_input_scale\":0,\"leakyrelu_alpha\":0},\"force_earliest_schedule\":false}\n"
     ]
    },
    {
     "name": "stdout",
     "output_type": "stream",
     "text": [
      "\u001b[1m75/79\u001b[0m \u001b[32m━━━━━━━━━━━━━━━━━━\u001b[0m\u001b[37m━━\u001b[0m \u001b[1m0s\u001b[0m 8ms/step - accuracy: 0.9065 - loss: 0.3388"
     ]
    },
    {
     "name": "stderr",
     "output_type": "stream",
     "text": [
      "2025-05-25 17:54:16.131622: I external/local_xla/xla/service/gpu/autotuning/conv_algorithm_picker.cc:549] Omitted potentially buggy algorithm eng14{k25=2} for conv %cudnn-conv-bias-activation.6 = (f32[16,64,26,26]{3,2,1,0}, u8[0]{0}) custom-call(f32[16,1,28,28]{3,2,1,0} %bitcast.500, f32[64,1,3,3]{3,2,1,0} %bitcast.507, f32[64]{0} %bitcast.509), window={size=3x3}, dim_labels=bf01_oi01->bf01, custom_call_target=\"__cudnn$convBiasActivationForward\", metadata={op_type=\"Conv2D\" op_name=\"functional_1/conv2d_2_1/convolution\" source_file=\"/nfs/nfs9/home/nobackup/parishar/my_own_python/deep_learning_env/lib/python3.11/site-packages/tensorflow/python/framework/ops.py\" source_line=1200}, backend_config={\"operation_queue_id\":\"0\",\"wait_on_operation_queues\":[],\"cudnn_conv_backend_config\":{\"conv_result_scale\":1,\"activation_mode\":\"kRelu\",\"side_input_scale\":0,\"leakyrelu_alpha\":0},\"force_earliest_schedule\":false}\n",
      "2025-05-25 17:54:16.232649: I external/local_xla/xla/service/gpu/autotuning/conv_algorithm_picker.cc:549] Omitted potentially buggy algorithm eng14{k25=2} for conv %cudnn-conv-bias-activation.7 = (f32[16,64,24,24]{3,2,1,0}, u8[0]{0}) custom-call(f32[16,64,26,26]{3,2,1,0} %bitcast.514, f32[64,64,3,3]{3,2,1,0} %bitcast.521, f32[64]{0} %bitcast.523), window={size=3x3}, dim_labels=bf01_oi01->bf01, custom_call_target=\"__cudnn$convBiasActivationForward\", metadata={op_type=\"Conv2D\" op_name=\"functional_1/conv2d_3_1/convolution\" source_file=\"/nfs/nfs9/home/nobackup/parishar/my_own_python/deep_learning_env/lib/python3.11/site-packages/tensorflow/python/framework/ops.py\" source_line=1200}, backend_config={\"operation_queue_id\":\"0\",\"wait_on_operation_queues\":[],\"cudnn_conv_backend_config\":{\"conv_result_scale\":1,\"activation_mode\":\"kRelu\",\"side_input_scale\":0,\"leakyrelu_alpha\":0},\"force_earliest_schedule\":false}\n"
     ]
    },
    {
     "name": "stdout",
     "output_type": "stream",
     "text": [
      "\u001b[1m79/79\u001b[0m \u001b[32m━━━━━━━━━━━━━━━━━━━━\u001b[0m\u001b[37m\u001b[0m \u001b[1m4s\u001b[0m 36ms/step - accuracy: 0.9065 - loss: 0.3382\n"
     ]
    },
    {
     "data": {
      "text/plain": [
       "[0.32839012145996094, 0.9071000218391418]"
      ]
     },
     "execution_count": 6,
     "metadata": {},
     "output_type": "execute_result"
    }
   ],
   "source": [
    "model.evaluate(test_data)"
   ]
  },
  {
   "cell_type": "markdown",
   "id": "dd2e0d15",
   "metadata": {},
   "source": [
    "__Results of experiment 1 & Improvements__\n",
    "\n",
    "5 epochs - The test and validation set accuracy in the first experiment is ~92%.\n",
    "15 epochs - Een after 15 epochs, the validation accuracy did not improve beyond 92%. The train set accuracy reached 99% - this indicates that the model is likely overfitting the training set. In this particular, configuration, it's better to train the data only upto 5 epochs (to prevent overfitting).\n",
    "\n",
    "Now, let's try to see if the accuracy can be improved by\n",
    "1. Using more feature maps in the last convolution layer.\n",
    "2. Using data augmentation."
   ]
  },
  {
   "cell_type": "code",
   "execution_count": 8,
   "id": "190e40e0",
   "metadata": {},
   "outputs": [
    {
     "name": "stdout",
     "output_type": "stream",
     "text": [
      "Epoch 1/5\n",
      "\u001b[1m469/469\u001b[0m \u001b[32m━━━━━━━━━━━━━━━━━━━━\u001b[0m\u001b[37m\u001b[0m \u001b[1m14s\u001b[0m 21ms/step - accuracy: 0.7971 - loss: 0.5837\n",
      "Epoch 2/5\n"
     ]
    },
    {
     "ename": "",
     "evalue": "",
     "output_type": "error",
     "traceback": [
      "\u001b[1;31mThe Kernel crashed while executing code in the current cell or a previous cell. \n",
      "\u001b[1;31mPlease review the code in the cell(s) to identify a possible cause of the failure. \n",
      "\u001b[1;31mClick <a href='https://aka.ms/vscodeJupyterKernelCrash'>here</a> for more info. \n",
      "\u001b[1;31mView Jupyter <a href='command:jupyter.viewOutput'>log</a> for further details."
     ]
    }
   ],
   "source": [
    "# Model building \n",
    "\n",
    "# Input layer\n",
    "model_input = Input(shape=(train_images[0].shape))\n",
    "\n",
    "# Convolution block 1\n",
    "interm_out = Conv2D(32, (3, 3), strides = 2, activation='relu')(model_input)\n",
    "interm_out = Conv2D(64, (3, 3), strides = 2, activation='relu')(interm_out)\n",
    "\n",
    "# Convolution block 2\n",
    "interm_out = Conv2D(128, (3, 3), activation='relu')(model_input)\n",
    "interim_out = Flatten()(interm_out)\n",
    "\n",
    "# Clasification block\n",
    "interim_out = Dense(128, activation='relu')(interim_out)\n",
    "interm_out = Dropout(0.1)(interim_out)\n",
    "final_out = Dense(10, activation='softmax')(interim_out)\n",
    "\n",
    "# Linking up the model input and output in the model object\n",
    "model = Model(model_input, final_out)\n",
    "\n",
    "# Setting up the model training parameters\n",
    "model.compile(optimizer='adam', loss='sparse_categorical_crossentropy', metrics=['accuracy'])\n",
    "\n",
    "# Training the model\n",
    "fit_stats = model.fit(train_data, epochs=5)"
   ]
  },
  {
   "cell_type": "markdown",
   "id": "ef9568b4",
   "metadata": {},
   "source": [
    "__Observation:__ We note that, by increasing the feature maps, don't really improve the accuracy. So, let's try data augmentation as a last attempt."
   ]
  },
  {
   "cell_type": "code",
   "execution_count": 7,
   "id": "7de64a00",
   "metadata": {},
   "outputs": [],
   "source": [
    "# Create data augmentation pipeline\n",
    "data_augmentation = tf.keras.Sequential([\n",
    "    tf.keras.layers.RandomFlip(\"horizontal_and_vertical\"),\n",
    "    tf.keras.layers.RandomRotation(0.2),  # Rotate by up to 20% (0.2 * 2π radians)\n",
    "    tf.keras.layers.RandomZoom(0.1),      # Zoom by up to 10%\n",
    "    tf.keras.layers.RandomContrast(0.1),   # Adjust contrast by up to 10%\n",
    "])"
   ]
  },
  {
   "cell_type": "code",
   "execution_count": 8,
   "id": "a2ab3d6e",
   "metadata": {},
   "outputs": [
    {
     "name": "stdout",
     "output_type": "stream",
     "text": [
      "Epoch 1/5\n"
     ]
    },
    {
     "name": "stderr",
     "output_type": "stream",
     "text": [
      "WARNING: All log messages before absl::InitializeLog() is called are written to STDERR\n",
      "I0000 00:00:1748210227.937825 2516933 service.cc:152] XLA service 0x75b25000ae10 initialized for platform CUDA (this does not guarantee that XLA will be used). Devices:\n",
      "I0000 00:00:1748210227.937859 2516933 service.cc:160]   StreamExecutor device (0): Quadro RTX 6000, Compute Capability 7.5\n",
      "I0000 00:00:1748210227.937863 2516933 service.cc:160]   StreamExecutor device (1): Quadro RTX 6000, Compute Capability 7.5\n",
      "I0000 00:00:1748210227.937866 2516933 service.cc:160]   StreamExecutor device (2): Quadro RTX 6000, Compute Capability 7.5\n",
      "I0000 00:00:1748210227.937870 2516933 service.cc:160]   StreamExecutor device (3): Quadro RTX 6000, Compute Capability 7.5\n",
      "2025-05-25 17:57:07.966851: I tensorflow/compiler/mlir/tensorflow/utils/dump_mlir_util.cc:269] disabling MLIR crash reproducer, set env var `MLIR_CRASH_REPRODUCER_DIRECTORY` to enable.\n",
      "I0000 00:00:1748210228.137335 2516933 cuda_dnn.cc:529] Loaded cuDNN version 90300\n"
     ]
    },
    {
     "name": "stdout",
     "output_type": "stream",
     "text": [
      "\u001b[1m 12/469\u001b[0m \u001b[37m━━━━━━━━━━━━━━━━━━━━\u001b[0m \u001b[1m6s\u001b[0m 15ms/step - accuracy: 0.3645 - loss: 1.7028"
     ]
    },
    {
     "name": "stderr",
     "output_type": "stream",
     "text": [
      "I0000 00:00:1748210231.841910 2516933 device_compiler.h:188] Compiled cluster using XLA!  This line is logged at most once for the lifetime of the process.\n"
     ]
    },
    {
     "name": "stdout",
     "output_type": "stream",
     "text": [
      "\u001b[1m469/469\u001b[0m \u001b[32m━━━━━━━━━━━━━━━━━━━━\u001b[0m\u001b[37m\u001b[0m \u001b[1m18s\u001b[0m 28ms/step - accuracy: 0.8055 - loss: 0.5444 - val_accuracy: 0.8846 - val_loss: 0.3198\n",
      "Epoch 2/5\n",
      "\u001b[1m469/469\u001b[0m \u001b[32m━━━━━━━━━━━━━━━━━━━━\u001b[0m\u001b[37m\u001b[0m \u001b[1m7s\u001b[0m 15ms/step - accuracy: 0.9041 - loss: 0.2622 - val_accuracy: 0.8924 - val_loss: 0.2990\n",
      "Epoch 3/5\n",
      "\u001b[1m469/469\u001b[0m \u001b[32m━━━━━━━━━━━━━━━━━━━━\u001b[0m\u001b[37m\u001b[0m \u001b[1m7s\u001b[0m 14ms/step - accuracy: 0.9247 - loss: 0.2021 - val_accuracy: 0.8970 - val_loss: 0.2970\n",
      "Epoch 4/5\n",
      "\u001b[1m469/469\u001b[0m \u001b[32m━━━━━━━━━━━━━━━━━━━━\u001b[0m\u001b[37m\u001b[0m \u001b[1m7s\u001b[0m 15ms/step - accuracy: 0.9428 - loss: 0.1549 - val_accuracy: 0.8930 - val_loss: 0.3369\n",
      "Epoch 5/5\n",
      "\u001b[1m469/469\u001b[0m \u001b[32m━━━━━━━━━━━━━━━━━━━━\u001b[0m\u001b[37m\u001b[0m \u001b[1m7s\u001b[0m 15ms/step - accuracy: 0.9566 - loss: 0.1187 - val_accuracy: 0.8954 - val_loss: 0.3423\n"
     ]
    }
   ],
   "source": [
    "# Model building \n",
    "\n",
    "# Input layer\n",
    "model_input = Input(shape=(train_images[0].shape))\n",
    "\n",
    "# Apply data augmentation\n",
    "interim_out = data_augmentation(model_input)\n",
    "\n",
    "# Convolution block 1\n",
    "interm_out = Conv2D(32, (3, 3), strides = 2, activation='relu')(interim_out)\n",
    "interm_out = Conv2D(64, (3, 3), strides = 2, activation='relu')(interm_out)\n",
    "interm_out = Conv2D(128, (3, 3), activation='relu')(model_input)\n",
    "interim_out = MaxPooling2D((2, 2))(interm_out)\n",
    "interim_out = Flatten()(interm_out)\n",
    "\n",
    "# Clasification block\n",
    "interim_out = Dense(128, activation='relu')(interim_out)\n",
    "interm_out = Dropout(0.1)(interim_out)\n",
    "final_out = Dense(10, activation='softmax')(interim_out)\n",
    "\n",
    "# Linking up the model input and output in the model object\n",
    "model = Model(model_input, final_out)\n",
    "\n",
    "# Setting up the model training parameters\n",
    "model.compile(optimizer='adam', loss='sparse_categorical_crossentropy', metrics=['accuracy'])\n",
    "\n",
    "BATHCH_SIZE = 128\n",
    "\n",
    "train_data = train_data.batch(BATHCH_SIZE).prefetch(tf.data.AUTOTUNE)\n",
    "test_data = test_data.batch(BATHCH_SIZE).prefetch(tf.data.AUTOTUNE)\n",
    "\n",
    "# Training the model\n",
    "fit_stats = model.fit(train_data, epochs=5, validation_data=test_data)"
   ]
  },
  {
   "cell_type": "markdown",
   "id": "ad987457",
   "metadata": {},
   "source": [
    "__Observation:__ We note that, by using data augmentation, don't really improve the accuracy. It indicates that about 91% could be the max accuracy that we can squeeze out of this dataset. Another way to think about this is that the images are very low resolution, just 28 * 28, so wiht such low resolution - maybe the CNN can only get 91% of accuracy."
   ]
  }
 ],
 "metadata": {
  "kernelspec": {
   "display_name": "deep_learning_env",
   "language": "python",
   "name": "deep_learning_env"
  },
  "language_info": {
   "codemirror_mode": {
    "name": "ipython",
    "version": 3
   },
   "file_extension": ".py",
   "mimetype": "text/x-python",
   "name": "python",
   "nbconvert_exporter": "python",
   "pygments_lexer": "ipython3",
   "version": "3.11.7"
  }
 },
 "nbformat": 4,
 "nbformat_minor": 5
}
